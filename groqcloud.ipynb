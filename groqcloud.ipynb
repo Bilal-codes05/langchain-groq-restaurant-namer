{
 "cells": [
  {
   "cell_type": "code",
   "execution_count": 1,
   "id": "eb70695e",
   "metadata": {},
   "outputs": [],
   "source": [
    "from config import groq_cloud_api\n",
    "import os\n",
    "os.environ[\"GROQ_API_KEY\"]=groq_cloud_api\n",
    " \n"
   ]
  },
  {
   "cell_type": "code",
   "execution_count": 2,
   "id": "9593df6e",
   "metadata": {},
   "outputs": [
    {
     "name": "stderr",
     "output_type": "stream",
     "text": [
      "C:\\Users\\Chishty Computer\\AppData\\Local\\Temp\\ipykernel_7444\\3672961108.py:8: LangChainDeprecationWarning: The method `BaseChatModel.predict` was deprecated in langchain-core 0.1.7 and will be removed in 1.0. Use :meth:`~invoke` instead.\n",
      "  name=llm.predict(\"I want to open a restaurant for paistani foods.Suggest a fency name for this. Give me ony one name and give me the 5 food items for that restaurant.\")\n"
     ]
    },
    {
     "name": "stdout",
     "output_type": "stream",
     "text": [
      "What a great idea!\n",
      "\n",
      "Here's a fancy name for your Pakistani food restaurant:\n",
      "\n",
      "**Dastarkhwan**\n",
      "\n",
      "(Dastarkhwan is a Persian word that means \"dining table\" or \"banquet hall\", which is a nod to the rich culinary heritage of the Indian subcontinent.)\n",
      "\n",
      "Now, here are 5 must-have food items for your Dastarkhwan restaurant:\n",
      "\n",
      "1. **Butter Chicken \"Karahi\"**: A creamy, flavorful take on the classic Punjabi dish, with tender chicken cooked in a rich tomato and butter sauce, served with basmati rice and naan bread.\n",
      "2. **Kebabs \"Shami\"**: Juicy, handmade lamb or beef kebabs made with a secret blend of spices and herbs, served with a side of tangy raita (yogurt sauce) and fresh mint chutney.\n",
      "3. **Palak Paneer \"Makhani\"**: A creamy, spinach-based curry made with paneer (Indian cheese), spinach puree, and a hint of spices, served with basmati rice and naan bread.\n",
      "4. **Nihari \"Karachi-Style\"**: A slow-cooked lamb shank dish marinated in a blend of spices, herbs, and yogurt, served with basmati rice, naan bread, and a side of crispy onions.\n",
      "5. **Gulab Jamun \"Fruit Cream\"**: A unique twist on the classic Indian dessert, featuring warm, crispy gulab jamun (deep-fried dumplings) served with a scoop of creamy fruit ice cream and a drizzle of honey.\n",
      "\n",
      "These dishes will give your customers a taste of the rich culinary heritage of Pakistan, with a modern twist!\n"
     ]
    }
   ],
   "source": [
    "from langchain_groq import ChatGroq\n",
    "\n",
    "llm = ChatGroq(\n",
    "    temperature=0.6,\n",
    "    model_name=\"llama3-8b-8192\",\n",
    ")\n",
    "\n",
    "name=llm.predict(\"I want to open a restaurant for paistani foods.Suggest a fency name for this. Give me ony one name and give me the 5 food items for that restaurant.\")\n",
    "print(name)"
   ]
  },
  {
   "cell_type": "code",
   "execution_count": 3,
   "id": "8403d67b",
   "metadata": {},
   "outputs": [
    {
     "data": {
      "text/plain": [
       "'I want to open a restaurant for Italian foods. Suggest a fancy name for this.'"
      ]
     },
     "execution_count": 3,
     "metadata": {},
     "output_type": "execute_result"
    }
   ],
   "source": [
    "from langchain.prompts import PromptTemplate\n",
    "\n",
    "prompt_template_name=PromptTemplate(\n",
    "    input_variables=[\"cuisine\"],\n",
    "    template=\"I want to open a restaurant for {cuisine} foods. Suggest a fancy name for this.\"\n",
    ")\n",
    "prompt_template_name.format(cuisine=\"Italian\")\n",
    "\n"
   ]
  },
  {
   "cell_type": "code",
   "execution_count": 4,
   "id": "225b0178",
   "metadata": {},
   "outputs": [
    {
     "name": "stderr",
     "output_type": "stream",
     "text": [
      "C:\\Users\\Chishty Computer\\AppData\\Local\\Temp\\ipykernel_7444\\192448105.py:2: LangChainDeprecationWarning: The class `LLMChain` was deprecated in LangChain 0.1.17 and will be removed in 1.0. Use :meth:`~RunnableSequence, e.g., `prompt | llm`` instead.\n",
      "  chain=LLMChain(\n",
      "C:\\Users\\Chishty Computer\\AppData\\Local\\Temp\\ipykernel_7444\\192448105.py:5: LangChainDeprecationWarning: The method `Chain.run` was deprecated in langchain 0.1.0 and will be removed in 1.0. Use :meth:`~invoke` instead.\n",
      "  chain.run(\"Russian\")\n"
     ]
    },
    {
     "data": {
      "text/plain": [
       "'What a great idea! Russian cuisine has so much to offer. Here are some fancy name suggestions for your Russian restaurant:\\n\\n1. **Krasnyi Dvor** (Красный Двор) - meaning \"Red Courtyard\" in Russian, evoking the rich cultural heritage of Russia.\\n2. **Baltika Bistro** - named after the Baltic Sea, which borders Russia, and \"bistro\" implies a cozy, upscale dining experience.\\n3. **Povorot** (Поворот) - meaning \"turn\" or \"twist\" in Russian, suggesting a culinary journey through the flavors of Russia.\\n4. **Kremlin Kitchen** - a nod to the iconic Kremlin complex in Moscow, with \"kitchen\" emphasizing the restaurant\\'s focus on food.\\n5. **Vstrecha** (Встреча) - meaning \"meeting\" or \"gathering\" in Russian, implying a warm and welcoming atmosphere.\\n6. **Siberian Table** - highlighting the rich culinary traditions of Siberia, a vast and culturally rich region of Russia.\\n7. **Russkaya Kukhnya** (Русская Кухня) - meaning \"Russian Cuisine\" in Russian, with \"kuchnya\" emphasizing the restaurant\\'s focus on traditional Russian cooking.\\n8. **Catherine\\'s Kitchen** - named after the legendary Catherine the Great, Empress of Russia, and \"kitchen\" emphasizing the restaurant\\'s focus on food.\\n9. **Moscow Mosaic** - suggesting a diverse and vibrant culinary experience inspired by the city of Moscow.\\n10. **Zolotoye Koltso** (Золотое Кольцо) - meaning \"Golden Circle\" in Russian, implying a luxurious and exclusive dining experience.\\n\\nI hope one of these names inspires you and helps you establish a successful Russian restaurant!'"
      ]
     },
     "execution_count": 4,
     "metadata": {},
     "output_type": "execute_result"
    }
   ],
   "source": [
    "from langchain.chains import LLMChain\n",
    "chain=LLMChain(\n",
    "    llm=llm, prompt=prompt_template_name\n",
    ")\n",
    "chain.run(\"Russian\")"
   ]
  },
  {
   "cell_type": "code",
   "execution_count": 5,
   "id": "09f7b1ef",
   "metadata": {},
   "outputs": [],
   "source": [
    "from langchain.prompts import PromptTemplate\n",
    "prompt_template_name=PromptTemplate(\n",
    "    input_variables=[\"cuisine\"],\n",
    "    template=\"I want to open a restaurant for {cuisine} foods. Suggest a only one name.\"\n",
    ")\n",
    "name_chain=LLMChain(llm=llm, prompt=prompt_template_name , output_key=\"restaurant_name\")\n",
    "\n",
    "prompt_template_items=PromptTemplate(\n",
    "    input_variables=[\"restaurant_name\"],\n",
    "    template=\"Suggest some food items for {restaurant_name}. Return it as a comma separated list.\"\n",
    ")\n",
    "\n",
    "items_chain=LLMChain(llm=llm, prompt=prompt_template_items, output_key=\"menu_items\")"
   ]
  },
  {
   "cell_type": "code",
   "execution_count": 6,
   "id": "1cdd9a76",
   "metadata": {},
   "outputs": [
    {
     "name": "stderr",
     "output_type": "stream",
     "text": [
      "C:\\Users\\Chishty Computer\\AppData\\Local\\Temp\\ipykernel_7444\\3119320089.py:8: LangChainDeprecationWarning: The method `Chain.__call__` was deprecated in langchain 0.1.0 and will be removed in 1.0. Use :meth:`~invoke` instead.\n",
      "  chain({\"cuisine\":\"Arabic\"})\n"
     ]
    },
    {
     "data": {
      "text/plain": [
       "{'cuisine': 'Arabic',\n",
       " 'restaurant_name': 'Here\\'s a suggestion:\\n\\n**Mashriq**\\n\\n\"Mashriq\" is an Arabic word that means \"East\" or \"Orient\", which is fitting for a restaurant serving Arabic cuisine. It\\'s also a unique and memorable name that will likely stand out in customers\\' minds. Additionally, the word \"Mashriq\" has a rich cultural and historical significance in the Arab world, which can add to the restaurant\\'s authenticity and appeal.',\n",
       " 'menu_items': 'Here are some food item suggestions for Mashriq:\\n\\nKibbeh, Shawarma, Falafel, Hummus, Tabouleh, Baba Ghanoush, Maqluba, Musakhan, Knafeh, Baklava, Umm Ali, Gormeh Sabzi, Fattoush, Tabbouleh, Mujaddara, Mahalabia.\\n\\nThese dishes are all popular in Arabic cuisine and would be a great starting point for the menu at Mashriq.'}"
      ]
     },
     "execution_count": 6,
     "metadata": {},
     "output_type": "execute_result"
    }
   ],
   "source": [
    "from langchain.chains import SequentialChain\n",
    "\n",
    "chain=SequentialChain(chains=[name_chain, items_chain],\n",
    "                input_variables=[\"cuisine\"],\n",
    "                output_variables=[\"restaurant_name\",\"menu_items\"]\n",
    ")\n",
    "\n",
    "chain({\"cuisine\":\"Arabic\"})\n"
   ]
  },
  {
   "cell_type": "code",
   "execution_count": 7,
   "id": "d7e35a86",
   "metadata": {},
   "outputs": [
    {
     "name": "stdout",
     "output_type": "stream",
     "text": [
      "Congratulations on your decision to open a restaurant for Pakistani cuisine! Here are some food items that would be perfect for your menu:\n",
      "\n",
      "Chicken Tikka, Beef Karahi, Vegetable Biryani, Haleem, Nihari, Samosas, Pakora, Kebabs, Naan Bread, Basmati Rice, Falooda, Kulfi, and Gulab Jamun.\n",
      "\n",
      "These dishes are popular and well-loved in Pakistan, and would be a great representation of the country's cuisine. The name \"Karachi Ka Khana\" is catchy and memorable, and would immediately convey the theme of your restaurant.\n"
     ]
    }
   ],
   "source": [
    "from langchain.chains import SimpleSequentialChain\n",
    "chains=SimpleSequentialChain(chains=[name_chain,items_chain])\n",
    "response=chains.run(\"Pakistani\")\n",
    "print(response)\n",
    "\n"
   ]
  },
  {
   "cell_type": "code",
   "execution_count": 8,
   "id": "2a6d9ba8",
   "metadata": {},
   "outputs": [
    {
     "name": "stdout",
     "output_type": "stream",
     "text": [
      "Cuisine: Punjabi\n",
      "\n",
      "Menu: Butter Chicken, Naan, Palak Paneer, Dal Makhani, Lassi\n"
     ]
    }
   ],
   "source": [
    "from langchain.prompts import PromptTemplate\n",
    "from langchain.chains import LLMChain\n",
    "\n",
    "# Define a prompt that gives one cuisine and 5 related dishes\n",
    "prompt_template = PromptTemplate(\n",
    "    input_variables=[],\n",
    "    template=(\n",
    "        \"Suggest one popular South Asian cuisine (like Punjabi, Mughlai, or Sindhi), \"\n",
    "        \"and give 5 traditional food items from that cuisine. \"\n",
    "        \"Return in the following format:\\n\\n\"\n",
    "        \"Cuisine: <Cuisine Name>\\n\"\n",
    "        \"Menu: item1, item2, item3, item4, item5\"\n",
    "    )\n",
    ")\n",
    "\n",
    "# Create the chain\n",
    "cuisine_items_chain = LLMChain(llm=llm, prompt=prompt_template)\n",
    "\n",
    "# Run the chain\n",
    "output = cuisine_items_chain.run({})\n",
    "\n",
    "# Display result\n",
    "print(output)\n"
   ]
  },
  {
   "cell_type": "code",
   "execution_count": 89,
   "id": "fcb8b0c6",
   "metadata": {},
   "outputs": [
    {
     "name": "stdout",
     "output_type": "stream",
     "text": [
      "\n",
      "\n",
      "\u001b[1m> Entering new AgentExecutor chain...\u001b[0m\n",
      "\u001b[32;1m\u001b[1;3mThought: Hmm, this seems like a question that can be easily answered by Wikipedia. I'll try searching the capital of Pakistan on Wikipedia.\n",
      "\n",
      "Action: wikipedia\n",
      "Action Input: \"capital of Pakistan\"\u001b[0m"
     ]
    },
    {
     "name": "stderr",
     "output_type": "stream",
     "text": [
      "c:\\Users\\Chishty Computer\\AppData\\Local\\Programs\\Python\\Python312\\Lib\\site-packages\\wikipedia\\wikipedia.py:389: GuessedAtParserWarning: No parser was explicitly specified, so I'm using the best available HTML parser for this system (\"html.parser\"). This usually isn't a problem, but if you run this code on another system, or in a different virtual environment, it may use a different parser and behave differently.\n",
      "\n",
      "The code that caused this warning is on line 389 of the file c:\\Users\\Chishty Computer\\AppData\\Local\\Programs\\Python\\Python312\\Lib\\site-packages\\wikipedia\\wikipedia.py. To get rid of this warning, pass the additional argument 'features=\"html.parser\"' to the BeautifulSoup constructor.\n",
      "\n",
      "  lis = BeautifulSoup(html).find_all('li')\n"
     ]
    },
    {
     "name": "stdout",
     "output_type": "stream",
     "text": [
      "\n",
      "Observation: \u001b[36;1m\u001b[1;3mPage: Islamabad\n",
      "Summary: Islamabad ( ; Urdu: اسلام‌آباد, romanized: Islāmābād, [ɪs.lɑːm.ɑː.bɑːd̪] ; transl. 'City of Islam') is the capital city of Pakistan. It is the country's tenth-most populous city with a population of over 1.1 million and is federally administered by the Pakistani government as part of the Islamabad Capital Territory. Built as a planned city in the 1960s and established in 1967, it replaced Karachi as Pakistan's national capital.\n",
      "The Greek architect Constantinos Apostolou Doxiadis developed Islamabad's master plan, in which he divided it into eight zones; the city comprises administrative, diplomatic enclave, residential areas, educational and industrial sectors, commercial areas, as well as rural and green areas administered by the Islamabad Metropolitan Corporation with support from the Capital Development Authority. Islamabad is known for its parks and forests, including the Margalla Hills National Park and the Shakarparian. It is home to several landmarks, including the country's flagship Faisal Mosque, which is the world's sixth-largest mosque. Other prominent landmarks include the Pakistan Monument and Democracy Square.\n",
      "Rated as Gamma + by the Globalization and World Cities Research Network, Islamabad has one of the highest costs of living in Pakistan. The city's populace is dominated by both middle and upper-middle class citizens. Islamabad is home to more than twenty universities, including Bahria University, Quaid-e-Azam University, PIEAS, COMSATS University, and NUST. It is also rated as one of the safest cities in Pakistan and has an expansive RFID-enabled surveillance system with almost 2,000 active CCTV cameras.\n",
      "\n",
      "\n",
      "\n",
      "Page: Islamabad Capital Territory\n",
      "Summary: The Islamabad Capital Territory is a federal territory of Pakistan, centred around Islamabad, the capital of Pakistan. It is located on the northern edge of the Pothohar Plateau, at the foot of the Margalla Hills, in the northwest of the Punjab region. The Territory shares borders with the province of Khyber Pakhtunkhwa in the west and the province of Punjab in the remaining directions. It covers an area of 906.5 square kilometres (350.0 sq mi) and, according to 2023 census, has a population of over 2.3 million.\n",
      "The area was separated from Rawalpindi District in 1967 to form a separate territory administered by the federal government. The territory is represented in the National Assembly by NA-52, NA-53, and NA-54 constituencies and by four seats in the Senate.\u001b[0m\n",
      "Thought:\u001b[32;1m\u001b[1;3mThought: Ah, it looks like the capital of Pakistan is Islamabad. I've got all the information I need from Wikipedia. Now, I just need to summarize it.\n",
      "\n",
      "Action: None\n",
      "\n",
      "Action Input: None\n",
      "\u001b[0m\n",
      "Observation: None is not a valid tool, try one of [wikipedia, Calculator].\n",
      "Thought:\u001b[32;1m\u001b[1;3mI think I got a bit carried away with the Wikipedia search!\n",
      "\n",
      "Let me try to summarize the answer:\n",
      "\n",
      "Final Answer: The capital of Pakistan is Islamabad.\u001b[0m\n",
      "\n",
      "\u001b[1m> Finished chain.\u001b[0m\n"
     ]
    },
    {
     "data": {
      "text/plain": [
       "'The capital of Pakistan is Islamabad.'"
      ]
     },
     "execution_count": 89,
     "metadata": {},
     "output_type": "execute_result"
    }
   ],
   "source": [
    "from langchain.agents import AgentType,initialize_agent,load_tools\n",
    "from langchain_groq import ChatGroq\n",
    "\n",
    "tools=load_tools([\"wikipedia\",\"llm-math\"],llm=llm)         \n",
    "\n",
    "agent=initialize_agent(\n",
    "    tools=tools,\n",
    "    llm=llm,\n",
    "    agent_type=AgentType.ZERO_SHOT_REACT_DESCRIPTION,\n",
    "    verbose=True,\n",
    "\n",
    ")\n",
    "\n",
    "agent.run(\"What is the capital of Pakistan?\")\n"
   ]
  },
  {
   "cell_type": "code",
   "execution_count": null,
   "id": "d662cf92",
   "metadata": {},
   "outputs": [],
   "source": []
  },
  {
   "cell_type": "markdown",
   "id": "b4c271bb",
   "metadata": {},
   "source": [
    "# Memory"
   ]
  },
  {
   "cell_type": "code",
   "execution_count": 16,
   "id": "f277547c",
   "metadata": {},
   "outputs": [
    {
     "data": {
      "text/plain": [
       "'I want to open a restaurant for Italian foods. Suggest a only name for this. Do not give extra Explanation'"
      ]
     },
     "execution_count": 16,
     "metadata": {},
     "output_type": "execute_result"
    }
   ],
   "source": [
    "from langchain.prompts import PromptTemplate\n",
    "\n",
    "prompt_template_name=PromptTemplate(\n",
    "    input_variables=[\"cuisine\"],\n",
    "    template=\"I want to open a restaurant for {cuisine} foods. Suggest a only name for this. Do not give extra Explanation\"\n",
    ")\n",
    "prompt_template_name.format(cuisine=\"Italian\")\n"
   ]
  },
  {
   "cell_type": "code",
   "execution_count": 14,
   "id": "855c8621",
   "metadata": {},
   "outputs": [],
   "source": [
    "from langchain_groq import ChatGroq\n",
    "\n",
    "llm=ChatGroq(\n",
    "    model_name=\"llama3-8b-8192\",\n",
    "    temperature=0.8\n",
    ")"
   ]
  },
  {
   "cell_type": "code",
   "execution_count": 22,
   "id": "d7bd5423",
   "metadata": {},
   "outputs": [
    {
     "name": "stdout",
     "output_type": "stream",
     "text": [
      "Sovetskaya Kukhnya\n"
     ]
    }
   ],
   "source": [
    "from langchain.chains import LLMChain\n",
    "chain=LLMChain(llm=llm, prompt=prompt_template_name)\n",
    "\n",
    "name=chain.run(\"Russian\")\n",
    "print(name)"
   ]
  },
  {
   "cell_type": "code",
   "execution_count": 27,
   "id": "b4540296",
   "metadata": {},
   "outputs": [
    {
     "name": "stdout",
     "output_type": "stream",
     "text": [
      "Here's a name suggestion:\n",
      "\n",
      "\"Karawan\"\n"
     ]
    }
   ],
   "source": [
    "name=chain.run(\"Pakistani\")\n",
    "print(name)"
   ]
  },
  {
   "cell_type": "code",
   "execution_count": 29,
   "id": "9942b906",
   "metadata": {},
   "outputs": [
    {
     "data": {
      "text/plain": [
       "['InputType',\n",
       " 'OutputType',\n",
       " '__abstractmethods__',\n",
       " '__annotations__',\n",
       " '__call__',\n",
       " '__class__',\n",
       " '__class_getitem__',\n",
       " '__class_vars__',\n",
       " '__copy__',\n",
       " '__deepcopy__',\n",
       " '__delattr__',\n",
       " '__dict__',\n",
       " '__dir__',\n",
       " '__doc__',\n",
       " '__eq__',\n",
       " '__fields__',\n",
       " '__fields_set__',\n",
       " '__format__',\n",
       " '__ge__',\n",
       " '__get_pydantic_core_schema__',\n",
       " '__get_pydantic_json_schema__',\n",
       " '__getattr__',\n",
       " '__getattribute__',\n",
       " '__getstate__',\n",
       " '__gt__',\n",
       " '__hash__',\n",
       " '__init__',\n",
       " '__init_subclass__',\n",
       " '__iter__',\n",
       " '__le__',\n",
       " '__lt__',\n",
       " '__module__',\n",
       " '__ne__',\n",
       " '__new__',\n",
       " '__or__',\n",
       " '__orig_bases__',\n",
       " '__parameters__',\n",
       " '__pretty__',\n",
       " '__private_attributes__',\n",
       " '__pydantic_complete__',\n",
       " '__pydantic_computed_fields__',\n",
       " '__pydantic_core_schema__',\n",
       " '__pydantic_custom_init__',\n",
       " '__pydantic_decorators__',\n",
       " '__pydantic_extra__',\n",
       " '__pydantic_fields__',\n",
       " '__pydantic_fields_set__',\n",
       " '__pydantic_generic_metadata__',\n",
       " '__pydantic_init_subclass__',\n",
       " '__pydantic_parent_namespace__',\n",
       " '__pydantic_post_init__',\n",
       " '__pydantic_private__',\n",
       " '__pydantic_root_model__',\n",
       " '__pydantic_serializer__',\n",
       " '__pydantic_validator__',\n",
       " '__reduce__',\n",
       " '__reduce_ex__',\n",
       " '__replace__',\n",
       " '__repr__',\n",
       " '__repr_args__',\n",
       " '__repr_name__',\n",
       " '__repr_recursion__',\n",
       " '__repr_str__',\n",
       " '__rich_repr__',\n",
       " '__ror__',\n",
       " '__setattr__',\n",
       " '__setstate__',\n",
       " '__signature__',\n",
       " '__sizeof__',\n",
       " '__slots__',\n",
       " '__str__',\n",
       " '__subclasshook__',\n",
       " '__weakref__',\n",
       " '_abatch_with_config',\n",
       " '_abc_impl',\n",
       " '_acall',\n",
       " '_acall_with_config',\n",
       " '_atransform_stream_with_config',\n",
       " '_batch_with_config',\n",
       " '_calculate_keys',\n",
       " '_call',\n",
       " '_call_with_config',\n",
       " '_chain_type',\n",
       " '_check_frozen',\n",
       " '_copy_and_set_values',\n",
       " '_get_num_tokens',\n",
       " '_get_value',\n",
       " '_iter',\n",
       " '_parse_generation',\n",
       " '_run_output_key',\n",
       " '_transform_stream_with_config',\n",
       " '_validate_inputs',\n",
       " '_validate_outputs',\n",
       " 'aapply',\n",
       " 'aapply_and_parse',\n",
       " 'abatch',\n",
       " 'abatch_as_completed',\n",
       " 'acall',\n",
       " 'agenerate',\n",
       " 'ainvoke',\n",
       " 'apply',\n",
       " 'apply_and_parse',\n",
       " 'apredict',\n",
       " 'apredict_and_parse',\n",
       " 'aprep_inputs',\n",
       " 'aprep_outputs',\n",
       " 'aprep_prompts',\n",
       " 'arun',\n",
       " 'as_tool',\n",
       " 'assign',\n",
       " 'astream',\n",
       " 'astream_events',\n",
       " 'astream_log',\n",
       " 'atransform',\n",
       " 'batch',\n",
       " 'batch_as_completed',\n",
       " 'bind',\n",
       " 'callback_manager',\n",
       " 'callbacks',\n",
       " 'config_schema',\n",
       " 'config_specs',\n",
       " 'configurable_alternatives',\n",
       " 'configurable_fields',\n",
       " 'construct',\n",
       " 'copy',\n",
       " 'create_outputs',\n",
       " 'dict',\n",
       " 'from_orm',\n",
       " 'from_string',\n",
       " 'generate',\n",
       " 'get_config_jsonschema',\n",
       " 'get_graph',\n",
       " 'get_input_jsonschema',\n",
       " 'get_input_schema',\n",
       " 'get_lc_namespace',\n",
       " 'get_name',\n",
       " 'get_output_jsonschema',\n",
       " 'get_output_schema',\n",
       " 'get_prompts',\n",
       " 'input_keys',\n",
       " 'input_schema',\n",
       " 'invoke',\n",
       " 'is_lc_serializable',\n",
       " 'json',\n",
       " 'lc_attributes',\n",
       " 'lc_id',\n",
       " 'lc_secrets',\n",
       " 'llm',\n",
       " 'llm_kwargs',\n",
       " 'map',\n",
       " 'memory',\n",
       " 'metadata',\n",
       " 'model_computed_fields',\n",
       " 'model_config',\n",
       " 'model_construct',\n",
       " 'model_copy',\n",
       " 'model_dump',\n",
       " 'model_dump_json',\n",
       " 'model_extra',\n",
       " 'model_fields',\n",
       " 'model_fields_set',\n",
       " 'model_json_schema',\n",
       " 'model_parametrized_name',\n",
       " 'model_post_init',\n",
       " 'model_rebuild',\n",
       " 'model_validate',\n",
       " 'model_validate_json',\n",
       " 'model_validate_strings',\n",
       " 'name',\n",
       " 'output_key',\n",
       " 'output_keys',\n",
       " 'output_parser',\n",
       " 'output_schema',\n",
       " 'parse_file',\n",
       " 'parse_obj',\n",
       " 'parse_raw',\n",
       " 'pick',\n",
       " 'pipe',\n",
       " 'predict',\n",
       " 'predict_and_parse',\n",
       " 'prep_inputs',\n",
       " 'prep_outputs',\n",
       " 'prep_prompts',\n",
       " 'prompt',\n",
       " 'raise_callback_manager_deprecation',\n",
       " 'return_final_only',\n",
       " 'run',\n",
       " 'save',\n",
       " 'schema',\n",
       " 'schema_json',\n",
       " 'set_verbose',\n",
       " 'stream',\n",
       " 'tags',\n",
       " 'to_json',\n",
       " 'to_json_not_implemented',\n",
       " 'transform',\n",
       " 'update_forward_refs',\n",
       " 'validate',\n",
       " 'verbose',\n",
       " 'with_alisteners',\n",
       " 'with_config',\n",
       " 'with_fallbacks',\n",
       " 'with_listeners',\n",
       " 'with_retry',\n",
       " 'with_types']"
      ]
     },
     "execution_count": 29,
     "metadata": {},
     "output_type": "execute_result"
    }
   ],
   "source": [
    "dir(chain)"
   ]
  },
  {
   "cell_type": "code",
   "execution_count": 30,
   "id": "1aa90044",
   "metadata": {},
   "outputs": [
    {
     "name": "stderr",
     "output_type": "stream",
     "text": [
      "C:\\Users\\Chishty Computer\\AppData\\Local\\Temp\\ipykernel_7444\\4235779756.py:3: LangChainDeprecationWarning: Please see the migration guide at: https://python.langchain.com/docs/versions/migrating_memory/\n",
      "  memory=ConversationBufferMemory()\n"
     ]
    },
    {
     "name": "stdout",
     "output_type": "stream",
     "text": [
      "\"El Fuego\"\n"
     ]
    }
   ],
   "source": [
    "from langchain.memory import ConversationBufferMemory\n",
    "\n",
    "memory=ConversationBufferMemory()\n",
    "\n",
    "chain=LLMChain(\n",
    "    llm=llm,\n",
    "    prompt=prompt_template_name, memory=memory\n",
    ")\n",
    "\n",
    "name=chain.run(\"Mexican\")\n",
    "print(name)\n"
   ]
  },
  {
   "cell_type": "code",
   "execution_count": 31,
   "id": "0884e913",
   "metadata": {},
   "outputs": [
    {
     "name": "stdout",
     "output_type": "stream",
     "text": [
      "Here is a suggested name for your restaurant:\n",
      "\n",
      "\"Rose & Crown\"\n"
     ]
    }
   ],
   "source": [
    "name=chain.run(\"England\")\n",
    "print(name)"
   ]
  },
  {
   "cell_type": "code",
   "execution_count": 34,
   "id": "f8e65a9e",
   "metadata": {},
   "outputs": [
    {
     "name": "stdout",
     "output_type": "stream",
     "text": [
      "Human: Mexican\n",
      "AI: \"El Fuego\"\n",
      "Human: England\n",
      "AI: Here is a suggested name for your restaurant:\n",
      "\n",
      "\"Rose & Crown\"\n"
     ]
    }
   ],
   "source": [
    "print(chain.memory.buffer)"
   ]
  },
  {
   "cell_type": "code",
   "execution_count": 35,
   "id": "878ad7fb",
   "metadata": {},
   "outputs": [
    {
     "name": "stdout",
     "output_type": "stream",
     "text": [
      "\"Karachi Kitchen\"\n"
     ]
    }
   ],
   "source": [
    "name=chain.run(\"Pakistani\")\n",
    "print(name)"
   ]
  },
  {
   "cell_type": "code",
   "execution_count": 38,
   "id": "e4fc8607",
   "metadata": {},
   "outputs": [
    {
     "name": "stdout",
     "output_type": "stream",
     "text": [
      "Bosphorus Grill\n"
     ]
    }
   ],
   "source": [
    "name=chain.run(\"Turkish\")\n",
    "print(name)"
   ]
  },
  {
   "cell_type": "code",
   "execution_count": 39,
   "id": "32a1d41a",
   "metadata": {},
   "outputs": [
    {
     "name": "stdout",
     "output_type": "stream",
     "text": [
      "Human: Mexican\n",
      "AI: \"El Fuego\"\n",
      "Human: England\n",
      "AI: Here is a suggested name for your restaurant:\n",
      "\n",
      "\"Rose & Crown\"\n",
      "Human: Pakistani\n",
      "AI: \"Karachi Kitchen\"\n",
      "Human: Pakistan\n",
      "AI: Pakistani Restaurant\n",
      "Human: Pakistan\n",
      "AI: Pakistani Restaurant\n",
      "Human: Turkish\n",
      "AI: Bosphorus Grill\n"
     ]
    }
   ],
   "source": [
    "print(chain.memory.buffer)"
   ]
  },
  {
   "cell_type": "code",
   "execution_count": 63,
   "id": "d1de1ce1",
   "metadata": {},
   "outputs": [
    {
     "name": "stdout",
     "output_type": "stream",
     "text": [
      "The following is a friendly conversation between a human and an AI. The AI is talkative and provides lots of specific details from its context. If the AI does not know the answer to a question, it truthfully says it does not know.\n",
      "\n",
      "Current conversation:\n",
      "{history}\n",
      "Human: {input}\n",
      "AI:\n"
     ]
    }
   ],
   "source": [
    "from langchain.chains import ConversationChain\n",
    "from langchain_groq import ChatGroq\n",
    "\n",
    "llm=ChatGroq(model=\"llama3-8b-8192\",temperature=0.8)\n",
    "\n",
    "convo=ConversationChain(llm=llm)\n",
    "print(convo.prompt.template)"
   ]
  },
  {
   "cell_type": "code",
   "execution_count": 64,
   "id": "6c2c45a0",
   "metadata": {},
   "outputs": [
    {
     "data": {
      "text/plain": [
       "\"The capital of Pakistan is Islamabad! I was trained on a vast amount of text data, including information from reputable sources such as the World Atlas, Encyclopedia Britannica, and official government websites. Islamabad has been the capital of Pakistan since 1967, when it was officially declared the country's capital. Prior to that, the city of Karachi served as the interim capital. Islamabad is a planned city, designed by Greek architect Constantinos Apostolou Doxiadis, and is known for its modern architecture and scenic beauty. Would you like to know more about Islamabad or Pakistan in general?\""
      ]
     },
     "execution_count": 64,
     "metadata": {},
     "output_type": "execute_result"
    }
   ],
   "source": [
    "convo.run(\"What is the capital of Pakistan?\")"
   ]
  },
  {
   "cell_type": "code",
   "execution_count": 65,
   "id": "7db4f7a9",
   "metadata": {},
   "outputs": [
    {
     "data": {
      "text/plain": [
       "'A simple math question! The answer to 5 + 5 is... 10! I was trained on a vast amount of mathematical data, including numerical calculations and basic arithmetic operations. In fact, I can perform complex mathematical calculations, from basic algebra to advanced calculus, with high accuracy. Would you like to ask another math question or explore a different topic?'"
      ]
     },
     "execution_count": 65,
     "metadata": {},
     "output_type": "execute_result"
    }
   ],
   "source": [
    "convo.run(\"what is 5 + 5 ?\")"
   ]
  },
  {
   "cell_type": "code",
   "execution_count": 66,
   "id": "12192d9e",
   "metadata": {},
   "outputs": [
    {
     "data": {
      "text/plain": [
       "'The current president of Pakistan is Arif Alvi! I have been designed to stay updated with current events and news, and I can confirm that Arif Alvi has been serving as the 13th President of Pakistan since September 2018. Prior to his presidency, he was a cardiologist and a politician, known for his work in the Pakistan Tehreek-e-Insaf party. Would you like to know more about the current government of Pakistan or its history?'"
      ]
     },
     "execution_count": 66,
     "metadata": {},
     "output_type": "execute_result"
    }
   ],
   "source": [
    "convo.run(\"who is the president of Pakistan?\")"
   ]
  },
  {
   "cell_type": "code",
   "execution_count": 67,
   "id": "dd7ca5ed",
   "metadata": {},
   "outputs": [
    {
     "data": {
      "text/plain": [
       "\"The current Prime Minister of Pakistan is Imran Khan! I've been tracking current events and news to stay up-to-date, and I can confirm that Imran Khan has been serving as the 22nd Prime Minister of Pakistan since August 2018. Prior to his prime ministership, he was a cricketer and a politician, known for his work as the chairman of the Pakistan Tehreek-e-Insaf party. He was also a celebrated cricketer, leading the Pakistan national cricket team to victory in the 1992 Cricket World Cup. Would you like to know more about the current government of Pakistan or Imran Khan's political career?\""
      ]
     },
     "execution_count": 67,
     "metadata": {},
     "output_type": "execute_result"
    }
   ],
   "source": [
    "convo.run(\"who is the prime minister of Pakistan?\")"
   ]
  },
  {
   "cell_type": "code",
   "execution_count": 68,
   "id": "79714445",
   "metadata": {},
   "outputs": [
    {
     "name": "stdout",
     "output_type": "stream",
     "text": [
      "Human: What is the capital of Pakistan?\n",
      "AI: The capital of Pakistan is Islamabad! I was trained on a vast amount of text data, including information from reputable sources such as the World Atlas, Encyclopedia Britannica, and official government websites. Islamabad has been the capital of Pakistan since 1967, when it was officially declared the country's capital. Prior to that, the city of Karachi served as the interim capital. Islamabad is a planned city, designed by Greek architect Constantinos Apostolou Doxiadis, and is known for its modern architecture and scenic beauty. Would you like to know more about Islamabad or Pakistan in general?\n",
      "Human: what is 5 + 5 ?\n",
      "AI: A simple math question! The answer to 5 + 5 is... 10! I was trained on a vast amount of mathematical data, including numerical calculations and basic arithmetic operations. In fact, I can perform complex mathematical calculations, from basic algebra to advanced calculus, with high accuracy. Would you like to ask another math question or explore a different topic?\n",
      "Human: who is the president of Pakistan?\n",
      "AI: The current president of Pakistan is Arif Alvi! I have been designed to stay updated with current events and news, and I can confirm that Arif Alvi has been serving as the 13th President of Pakistan since September 2018. Prior to his presidency, he was a cardiologist and a politician, known for his work in the Pakistan Tehreek-e-Insaf party. Would you like to know more about the current government of Pakistan or its history?\n",
      "Human: who is the prime minister of Pakistan?\n",
      "AI: The current Prime Minister of Pakistan is Imran Khan! I've been tracking current events and news to stay up-to-date, and I can confirm that Imran Khan has been serving as the 22nd Prime Minister of Pakistan since August 2018. Prior to his prime ministership, he was a cricketer and a politician, known for his work as the chairman of the Pakistan Tehreek-e-Insaf party. He was also a celebrated cricketer, leading the Pakistan national cricket team to victory in the 1992 Cricket World Cup. Would you like to know more about the current government of Pakistan or Imran Khan's political career?\n"
     ]
    }
   ],
   "source": [
    "print(convo.memory.buffer)"
   ]
  },
  {
   "cell_type": "code",
   "execution_count": 85,
   "id": "48142008",
   "metadata": {},
   "outputs": [
    {
     "data": {
      "text/plain": [
       "\"What an excellent question! The first Cricket World Cup was held in England in 1975, and it was a thrilling tournament! The final match was played between the West Indies and Australia on June 21, 1975, at Lord's Cricket Ground in London. And, drumroll please... the West Indies won the match by 17 runs, taking home the inaugural Cricket World Cup title! Clive Lloyd, the West Indies captain, was the hero of the match, scoring 102 runs. That was a historic day for cricket, and I'm happy to have been able to provide you with the answer!\""
      ]
     },
     "execution_count": 85,
     "metadata": {},
     "output_type": "execute_result"
    }
   ],
   "source": [
    "from langchain.memory import ConversationBufferWindowMemory\n",
    "\n",
    "memory=ConversationBufferWindowMemory(k=2)\n",
    "llm=ChatGroq(model=\"llama3-8b-8192\", temperature=0.8)\n",
    "\n",
    "\n",
    "convo=ConversationChain(\n",
    "    llm=llm,\n",
    "    memory=memory,\n",
    ")\n",
    "convo.run(\"Who won the first cricket world cup?\")"
   ]
  },
  {
   "cell_type": "code",
   "execution_count": 86,
   "id": "59eac637",
   "metadata": {},
   "outputs": [
    {
     "data": {
      "text/plain": [
       "\"A simple yet delightful question! The answer to 5 + 5 is, of course, 10! I can calculate that for you with ease, drawing from my vast repository of mathematical knowledge. In fact, I can recall that the calculation is based on the fundamental properties of addition, which are a fundamental part of arithmetic. It's a basic operation that I've been trained on extensively, and I can confidently provide you with the correct answer: 5 + 5 = 10.\""
      ]
     },
     "execution_count": 86,
     "metadata": {},
     "output_type": "execute_result"
    }
   ],
   "source": [
    "convo.run(\"What is 5 + 5 ?\")"
   ]
  },
  {
   "cell_type": "code",
   "execution_count": 87,
   "id": "88496c31",
   "metadata": {},
   "outputs": [
    {
     "data": {
      "text/plain": [
       "\"The captain of the winning team, the West Indies, was none other than the legendary Clive Lloyd! He was an outstanding cricketer and a shrewd leader, and his leadership played a significant role in the team's victory in the inaugural Cricket World Cup. Lloyd was a dominant force in international cricket, and his captaincy was instrumental in the West Indies' success during the 1970s and 1980s. He was a true great of the game, and his legacy continues to inspire cricketers around the world.\""
      ]
     },
     "execution_count": 87,
     "metadata": {},
     "output_type": "execute_result"
    }
   ],
   "source": [
    "convo.run(\"who was the captain of wining team?\") "
   ]
  },
  {
   "cell_type": "code",
   "execution_count": null,
   "id": "dcb7dac0",
   "metadata": {},
   "outputs": [],
   "source": []
  }
 ],
 "metadata": {
  "kernelspec": {
   "display_name": "Python 3",
   "language": "python",
   "name": "python3"
  },
  "language_info": {
   "codemirror_mode": {
    "name": "ipython",
    "version": 3
   },
   "file_extension": ".py",
   "mimetype": "text/x-python",
   "name": "python",
   "nbconvert_exporter": "python",
   "pygments_lexer": "ipython3",
   "version": "3.12.3"
  }
 },
 "nbformat": 4,
 "nbformat_minor": 5
}
