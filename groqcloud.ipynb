{
 "cells": [
  {
   "cell_type": "code",
   "execution_count": null,
   "id": "eb70695e",
   "metadata": {},
   "outputs": [],
   "source": [
    "from config import groq_cloud_api\n",
    "import os\n",
    "os.environ[\"GROQ_API_KEY\"]=groq_cloud_api\n",
    " \n"
   ]
  },
  {
   "cell_type": "code",
   "execution_count": 2,
   "id": "9593df6e",
   "metadata": {},
   "outputs": [
    {
     "name": "stderr",
     "output_type": "stream",
     "text": [
      "C:\\Users\\Chishty Computer\\AppData\\Local\\Temp\\ipykernel_9380\\3672961108.py:8: LangChainDeprecationWarning: The method `BaseChatModel.predict` was deprecated in langchain-core 0.1.7 and will be removed in 1.0. Use :meth:`~invoke` instead.\n",
      "  name=llm.predict(\"I want to open a restaurant for paistani foods.Suggest a fency name for this. Give me ony one name and give me the 5 food items for that restaurant.\")\n"
     ]
    },
    {
     "name": "stdout",
     "output_type": "stream",
     "text": [
      "Here's a fancy name for your Pakistani food restaurant:\n",
      "\n",
      "**Name:** \"Dastaan\" (meaning \"story\" in Urdu)\n",
      "\n",
      "\"Dastaan\" evokes the rich cultural heritage and storytelling tradition of Pakistan, while also sounding modern and sophisticated.\n",
      "\n",
      "Here are 5 must-try food items for your restaurant:\n",
      "\n",
      "1. **Biryani**: A classic Pakistani dish made with flavorful basmati rice, tender chicken or beef, and aromatic spices. Your \"Dastaan\" biryani would be slow-cooked to perfection and served with a side of raita (a yogurt and cucumber sauce).\n",
      "2. **Karachi-Style Kebabs**: Juicy, marinated lamb or beef skewers grilled to perfection and served with a side of fresh mint chutney and naan bread.\n",
      "3. **Palak Paneer**: A creamy spinach curry made with fresh paneer (Indian cheese), spinach puree, and aromatic spices. Served with basmati rice or naan bread.\n",
      "4. **Sindhi Biryani**: A spicy rice dish from the Sindh province, made with flavorful basmati rice, tender lamb or beef, and aromatic spices. Your \"Dastaan\" version would be served with a side of fresh cilantro and lemon.\n",
      "5. **Gajar Ka Halwa**: A popular Pakistani dessert made with slow-cooked carrots, milk, and aromatic spices. Your \"Dastaan\" version would be topped with chopped nuts and dried fruit, served warm and comforting.\n",
      "\n",
      "These dishes would be perfect for your \"Dastaan\" restaurant, offering a taste of Pakistan's rich culinary heritage to your customers.\n"
     ]
    }
   ],
   "source": [
    "from langchain_groq import ChatGroq\n",
    "\n",
    "llm = ChatGroq(\n",
    "    temperature=0.6,\n",
    "    model_name=\"llama3-8b-8192\",\n",
    ")\n",
    "\n",
    "name=llm.predict(\"I want to open a restaurant for paistani foods.Suggest a fency name for this. Give me ony one name and give me the 5 food items for that restaurant.\")\n",
    "print(name)"
   ]
  },
  {
   "cell_type": "code",
   "execution_count": 3,
   "id": "8403d67b",
   "metadata": {},
   "outputs": [
    {
     "data": {
      "text/plain": [
       "'I want to open a restaurant for Italian foods. Suggest a fancy name for this.'"
      ]
     },
     "execution_count": 3,
     "metadata": {},
     "output_type": "execute_result"
    }
   ],
   "source": [
    "from langchain.prompts import PromptTemplate\n",
    "\n",
    "prompt_template_name=PromptTemplate(\n",
    "    input_variables=[\"cuisine\"],\n",
    "    template=\"I want to open a restaurant for {cuisine} foods. Suggest a fancy name for this.\"\n",
    ")\n",
    "prompt_template_name.format(cuisine=\"Italian\")\n",
    "\n"
   ]
  },
  {
   "cell_type": "code",
   "execution_count": 4,
   "id": "225b0178",
   "metadata": {},
   "outputs": [
    {
     "name": "stderr",
     "output_type": "stream",
     "text": [
      "C:\\Users\\Chishty Computer\\AppData\\Local\\Temp\\ipykernel_9380\\192448105.py:2: LangChainDeprecationWarning: The class `LLMChain` was deprecated in LangChain 0.1.17 and will be removed in 1.0. Use :meth:`~RunnableSequence, e.g., `prompt | llm`` instead.\n",
      "  chain=LLMChain(\n",
      "C:\\Users\\Chishty Computer\\AppData\\Local\\Temp\\ipykernel_9380\\192448105.py:5: LangChainDeprecationWarning: The method `Chain.run` was deprecated in langchain 0.1.0 and will be removed in 1.0. Use :meth:`~invoke` instead.\n",
      "  chain.run(\"Russian\")\n"
     ]
    },
    {
     "data": {
      "text/plain": [
       "'What a great idea! Here are some fancy name suggestions for your Russian restaurant:\\n\\n1. **Moskva Maison**: \"Moskva\" is the Russian name for Moscow, and \"Maison\" means \"house\" in French, conveying a sense of elegance and sophistication.\\n2. **Kremlin Kitchen**: \"Kremlin\" evokes the grandeur and history of Russia, while \"Kitchen\" emphasizes the culinary aspect of your restaurant.\\n3. **Russkaya Rhapsody**: \"Russkaya\" means \"Russian\" in Russian, and \"Rhapsody\" suggests a harmonious blend of flavors and cultures.\\n4. **Baltika Bistro**: \"Baltika\" refers to the Baltic Sea, which borders Russia, and \"Bistro\" conveys a sense of casual, upscale dining.\\n5. **Sovetskaya Cuisine**: \"Sovetskaya\" means \"Soviet\" in Russian, paying homage to Russia\\'s rich cultural heritage, while \"Cuisine\" highlights the focus on food.\\n6. **Khorovod Kitchen**: \"Khorovod\" is a traditional Russian folk dance, and \"Kitchen\" emphasizes the warm, welcoming atmosphere of your restaurant.\\n7. **Vodka Vodka**: A playful name that references Russia\\'s famous national drink, vodka, and also implies a fun, lively atmosphere.\\n8. **Stolichnaya Spot**: \"Stolichnaya\" is a popular Russian vodka brand, and \"Spot\" suggests a cozy, inviting location.\\n9. **Russian Renaissance**: \"Russian Renaissance\" conveys a sense of cultural revival and rebirth, emphasizing the rich history and traditions of Russian cuisine.\\n10. **Dacha Delights**: \"Dacha\" is a Russian word for a country cottage or summer home, and \"Delights\" suggests a variety of tasty dishes and treats.\\n\\nChoose the one that resonates with your vision and goals for your restaurant!'"
      ]
     },
     "execution_count": 4,
     "metadata": {},
     "output_type": "execute_result"
    }
   ],
   "source": [
    "from langchain.chains import LLMChain\n",
    "chain=LLMChain(\n",
    "    llm=llm, prompt=prompt_template_name\n",
    ")\n",
    "chain.run(\"Russian\")"
   ]
  },
  {
   "cell_type": "code",
   "execution_count": 5,
   "id": "09f7b1ef",
   "metadata": {},
   "outputs": [],
   "source": [
    "from langchain.prompts import PromptTemplate\n",
    "prompt_template_name=PromptTemplate(\n",
    "    input_variables=[\"cuisine\"],\n",
    "    template=\"I want to open a restaurant for {cuisine} foods. Suggest a only one name.\"\n",
    ")\n",
    "name_chain=LLMChain(llm=llm, prompt=prompt_template_name , output_key=\"restaurant_name\")\n",
    "\n",
    "prompt_template_items=PromptTemplate(\n",
    "    input_variables=[\"restaurant_name\"],\n",
    "    template=\"Suggest some food items for {restaurant_name}. Return it as a comma separated list.\"\n",
    ")\n",
    "\n",
    "items_chain=LLMChain(llm=llm, prompt=prompt_template_items, output_key=\"menu_items\")"
   ]
  },
  {
   "cell_type": "code",
   "execution_count": 6,
   "id": "1cdd9a76",
   "metadata": {},
   "outputs": [
    {
     "name": "stderr",
     "output_type": "stream",
     "text": [
      "C:\\Users\\Chishty Computer\\AppData\\Local\\Temp\\ipykernel_9380\\3119320089.py:8: LangChainDeprecationWarning: The method `Chain.__call__` was deprecated in langchain 0.1.0 and will be removed in 1.0. Use :meth:`~invoke` instead.\n",
      "  chain({\"cuisine\":\"Arabic\"})\n"
     ]
    },
    {
     "data": {
      "text/plain": [
       "{'cuisine': 'Arabic',\n",
       " 'restaurant_name': 'Congratulations on your new venture!\\n\\nAfter some thought, I\\'d like to suggest a name that I think would be perfect for your Arabic food restaurant:\\n\\n**Mashriq**\\n\\n\"Mashriq\" is an Arabic word that means \"East\" or \"Orient\", which is a nod to the rich culinary heritage of the Middle East and the Arabic world. It\\'s also a unique and memorable name that will likely stand out in customers\\' minds. Additionally, \"Mashriq\" has a certain exotic and mystical quality to it, which could add to the allure of your restaurant.\\n\\nI hope you like it!',\n",
       " 'menu_items': 'What a great name suggestion! I\\'m sure \"Mashriq\" will be a hit for your Arabic food restaurant.\\n\\nTo celebrate your new venture, here are some food items that would be perfect for a congratulatory occasion:\\n\\nKunafeh, Shawarma, Falafel, Hummus, Baklava, Ma\\'amoul, Gormeh Sabzi, Fattoush, Kebabs, and Maqluba.\\n\\nThese dishes are all popular Middle Eastern and Arabic cuisine staples that are sure to delight your taste buds. Congratulations again on your new venture, and I hope \"Mashriq\" is a huge success!'}"
      ]
     },
     "execution_count": 6,
     "metadata": {},
     "output_type": "execute_result"
    }
   ],
   "source": [
    "from langchain.chains import SequentialChain\n",
    "\n",
    "chain=SequentialChain(chains=[name_chain, items_chain],\n",
    "                input_variables=[\"cuisine\"],\n",
    "                output_variables=[\"restaurant_name\",\"menu_items\"]\n",
    ")\n",
    "\n",
    "chain({\"cuisine\":\"Arabic\"})\n"
   ]
  },
  {
   "cell_type": "code",
   "execution_count": 7,
   "id": "d7e35a86",
   "metadata": {},
   "outputs": [
    {
     "name": "stdout",
     "output_type": "stream",
     "text": [
      "Here are some food items that would be perfect for \"Dastarkhwan\" Pakistani restaurant:\n",
      "\n",
      "Samosas, Kebabs, Biryani, Haleem, Naan bread, Tandoori chicken, Karak chai, Falooda, Gulab jamun, Shami kebabs, Chicken tikka masala, Basmati rice, Raita, Seekh kebabs, Kulfi, and Peshawari naan.\n",
      "\n",
      "I absolutely love the name \"Dastarkhwan\"! It's a beautiful representation of Pakistani culture and hospitality.\n"
     ]
    }
   ],
   "source": [
    "from langchain.chains import SimpleSequentialChain\n",
    "chains=SimpleSequentialChain(chains=[name_chain,items_chain])\n",
    "response=chains.run(\"Pakistani\")\n",
    "print(response)\n",
    "\n"
   ]
  },
  {
   "cell_type": "code",
   "execution_count": 8,
   "id": "2a6d9ba8",
   "metadata": {},
   "outputs": [
    {
     "name": "stdout",
     "output_type": "stream",
     "text": [
      "Cuisine: Punjabi\n",
      "Menu: Butter Chicken, Naan Bread, Tandoori Chicken, Palak Paneer, Dal Makhani\n"
     ]
    }
   ],
   "source": [
    "from langchain.prompts import PromptTemplate\n",
    "from langchain.chains import LLMChain\n",
    "\n",
    "# Define a prompt that gives one cuisine and 5 related dishes\n",
    "prompt_template = PromptTemplate(\n",
    "    input_variables=[],\n",
    "    template=(\n",
    "        \"Suggest one popular South Asian cuisine (like Punjabi, Mughlai, or Sindhi), \"\n",
    "        \"and give 5 traditional food items from that cuisine. \"\n",
    "        \"Return in the following format:\\n\\n\"\n",
    "        \"Cuisine: <Cuisine Name>\\n\"\n",
    "        \"Menu: item1, item2, item3, item4, item5\"\n",
    "    )\n",
    ")\n",
    "\n",
    "# Create the chain\n",
    "cuisine_items_chain = LLMChain(llm=llm, prompt=prompt_template)\n",
    "\n",
    "# Run the chain\n",
    "output = cuisine_items_chain.run({})\n",
    "\n",
    "# Display result\n",
    "print(output)\n"
   ]
  },
  {
   "cell_type": "code",
   "execution_count": 22,
   "id": "fcb8b0c6",
   "metadata": {},
   "outputs": [
    {
     "name": "stderr",
     "output_type": "stream",
     "text": [
      "c:\\Users\\Chishty Computer\\AppData\\Local\\Programs\\Python\\Python312\\Lib\\site-packages\\wikipedia\\wikipedia.py:389: GuessedAtParserWarning: No parser was explicitly specified, so I'm using the best available HTML parser for this system (\"html.parser\"). This usually isn't a problem, but if you run this code on another system, or in a different virtual environment, it may use a different parser and behave differently.\n",
      "\n",
      "The code that caused this warning is on line 389 of the file c:\\Users\\Chishty Computer\\AppData\\Local\\Programs\\Python\\Python312\\Lib\\site-packages\\wikipedia\\wikipedia.py. To get rid of this warning, pass the additional argument 'features=\"html.parser\"' to the BeautifulSoup constructor.\n",
      "\n",
      "  lis = BeautifulSoup(html).find_all('li')\n"
     ]
    },
    {
     "data": {
      "text/plain": [
       "'Islamabad'"
      ]
     },
     "execution_count": 22,
     "metadata": {},
     "output_type": "execute_result"
    }
   ],
   "source": [
    "from langchain.agents import AgentType,initialize_agent,load_tools\n",
    "from langchain_groq import ChatGroq\n",
    "\n",
    "tools=load_tools([\"wikipedia\",\"llm-math\"],llm=llm)\n",
    "\n",
    "agent=initialize_agent(\n",
    "    tools=tools,\n",
    "    llm=llm,\n",
    "    agent_type=AgentType.ZERO_SHOT_REACT_DESCRIPTION,\n",
    "    verbose=False,\n",
    "\n",
    ")\n",
    "\n",
    "agent.run(\"What is the capital of Pakistan?\")\n"
   ]
  },
  {
   "cell_type": "code",
   "execution_count": null,
   "id": "dbff2dc7",
   "metadata": {},
   "outputs": [],
   "source": []
  }
 ],
 "metadata": {
  "kernelspec": {
   "display_name": "Python 3",
   "language": "python",
   "name": "python3"
  },
  "language_info": {
   "codemirror_mode": {
    "name": "ipython",
    "version": 3
   },
   "file_extension": ".py",
   "mimetype": "text/x-python",
   "name": "python",
   "nbconvert_exporter": "python",
   "pygments_lexer": "ipython3",
   "version": "3.12.3"
  }
 },
 "nbformat": 4,
 "nbformat_minor": 5
}
