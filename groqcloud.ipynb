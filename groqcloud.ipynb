{
 "cells": [
  {
   "cell_type": "code",
   "execution_count": 5,
   "id": "eb70695e",
   "metadata": {},
   "outputs": [],
   "source": [
    "from secret_key import groq_cloud_api\n",
    "import os\n",
    "os.environ[\"GROQ_API_KEY\"]=groq_cloud_api\n",
    " \n"
   ]
  },
  {
   "cell_type": "code",
   "execution_count": 36,
   "id": "9593df6e",
   "metadata": {},
   "outputs": [
    {
     "name": "stdout",
     "output_type": "stream",
     "text": [
      "What a great idea! Here's a fancy name suggestion for your Pakistani restaurant:\n",
      "\n",
      "**Name:** \"Dastarkhwan\"\n",
      "\n",
      "\"Dastarkhwan\" is a Persian word that means \"a spread of food\" or \"a table setting\". It's a fitting name for a Pakistani restaurant, as Pakistani cuisine is known for its rich and diverse spread of dishes. The name also has a sophisticated and elegant sound to it, which can help attract a discerning clientele.\n",
      "\n",
      "And here are 5 mouth-watering food items that your restaurant, Dastarkhwan, could feature:\n",
      "\n",
      "1. **Karahi Gosht**: A classic Pakistani dish made with tender lamb or beef cooked in a flavorful tomato-based sauce, served with basmati rice and naan bread.\n",
      "2. **Sag Paneer**: A creamy spinach curry made with paneer (Indian cheese), spinach puree, and spices, served with basmati rice or naan bread.\n",
      "3. **Biryani**: A fragrant and flavorful rice dish made with aromatic spices, basmati rice, and marinated chicken or lamb, served with a side of raita (a yogurt and cucumber sauce).\n",
      "4. **Shami Kebabs**: Crispy and flavorful kebabs made with minced lamb or beef, onions, and spices, served with a side of chutney and naan bread.\n",
      "5. **Gulab Jamun**: A popular Pakistani dessert made with deep-fried dumplings soaked in a sweet and fragrant syrup, served warm or chilled, depending on the season.\n",
      "\n",
      "These dishes would showcase the rich flavors and diversity of Pakistani cuisine, and would be sure to attract a loyal following at your restaurant, Dastarkhwan!\n"
     ]
    }
   ],
   "source": [
    "from langchain_groq import ChatGroq\n",
    "\n",
    "llm = ChatGroq(\n",
    "    temperature=0.6,\n",
    "    model_name=\"llama3-8b-8192\",\n",
    ")\n",
    "\n",
    "name=llm.predict(\"I want to open a restaurant for paistani foods.Suggest a fency name for this. Give me ony one name and give me the 5 food items for that restaurant.\")\n",
    "print(name)"
   ]
  },
  {
   "cell_type": "code",
   "execution_count": null,
   "id": "8403d67b",
   "metadata": {},
   "outputs": [
    {
     "data": {
      "text/plain": [
       "'I want to open a restaurant for Italian foods. Suggest a fancy name for this.Give me only one name.'"
      ]
     },
     "execution_count": 14,
     "metadata": {},
     "output_type": "execute_result"
    }
   ],
   "source": [
    "from langchain.prompts import PromptTemplate\n",
    "\n",
    "prompt_template_name=PromptTemplate(\n",
    "    input_variables=[\"cuisine\"],\n",
    "    template=\"I want to open a restaurant for {cuisine} foods. Suggest a fancy name for this.\"\n",
    ")\n",
    "prompt_template_name.format(cuisine=\"Italian\")\n",
    "\n"
   ]
  },
  {
   "cell_type": "code",
   "execution_count": 17,
   "id": "225b0178",
   "metadata": {},
   "outputs": [
    {
     "data": {
      "text/plain": [
       "'What a great idea!\\n\\nI\\'d be happy to help you with a fancy name for your Russian restaurant. Here\\'s a suggestion:\\n\\n**\"Khorosho\"**\\n\\n\"Khorosho\" is a Russian word that means \"good\" or \"delicious\", which is perfect for a restaurant that serves Russian cuisine. The name has a nice ring to it, and it\\'s easy to remember. Additionally, it\\'s a unique name that will set your restaurant apart from others.\\n\\nI hope you like it!'"
      ]
     },
     "execution_count": 17,
     "metadata": {},
     "output_type": "execute_result"
    }
   ],
   "source": [
    "from langchain.chains import LLMChain\n",
    "chain=LLMChain(\n",
    "    llm=llm, prompt=prompt_template_name\n",
    ")\n",
    "chain.run(\"Russian\")"
   ]
  },
  {
   "cell_type": "code",
   "execution_count": 37,
   "id": "09f7b1ef",
   "metadata": {},
   "outputs": [],
   "source": [
    "from langchain.prompts import PromptTemplate\n",
    "prompt_template_name=PromptTemplate(\n",
    "    input_variables=[\"cuisine\"],\n",
    "    template=\"I want to open a restaurant for {cuisine} foods. Suggest a only one name.\"\n",
    ")\n",
    "name_chain=LLMChain(llm=llm, prompt=prompt_template_name , output_key=\"restaurant_name\")\n",
    "\n",
    "prompt_template_items=PromptTemplate(\n",
    "    input_variables=[\"restaurant_name\"],\n",
    "    template=\"Suggest some food items for {restaurant_name}. Return it as a comma separated list.\"\n",
    ")\n",
    "\n",
    "items_chain=LLMChain(llm=llm, prompt=prompt_template_items, output_key=\"menu_items\")"
   ]
  },
  {
   "cell_type": "code",
   "execution_count": 38,
   "id": "1cdd9a76",
   "metadata": {},
   "outputs": [
    {
     "data": {
      "text/plain": [
       "{'cuisine': 'Arabic',\n",
       " 'restaurant_name': 'What a great idea!\\n\\nHere\\'s a suggestion for a restaurant name that might just fit the bill:\\n\\n**\"Mashriq\"**\\n\\n\"Mashriq\" is an Arabic word that means \"east\" or \"orient\", which is a nod to the rich culinary heritage of the Middle East and North Africa. It\\'s also a unique and memorable name that will likely stand out in the minds of your customers.\\n\\nI hope you like it!',\n",
       " 'menu_items': 'I love the name \"Mashriq\"! Here are some food item suggestions that would fit perfectly with the theme:\\n\\nFalafel, Shwarma, Hummus, Tabouleh, Shawarma Wrap, Baba Ghanoush, Kebabs, Mujaddara, Baklava, Ma\\'amoul, Turkish Delight, Arabic Coffee, Moroccan Chicken Tagine, Persian Rice Pilaf, Grilled Halloumi, Za\\'atar Flatbread, Stuffed Grape Leaves, and Spiced Dates.\\n\\nThese dishes showcase the diverse and rich culinary traditions of the Middle East and North Africa, and would complement the name \"Mashriq\" beautifully.'}"
      ]
     },
     "execution_count": 38,
     "metadata": {},
     "output_type": "execute_result"
    }
   ],
   "source": [
    "from langchain.chains import SequentialChain\n",
    "\n",
    "chain=SequentialChain(chains=[name_chain, items_chain],\n",
    "                input_variables=[\"cuisine\"],\n",
    "                output_variables=[\"restaurant_name\",\"menu_items\"]\n",
    ")\n",
    "\n",
    "chain({\"cuisine\":\"Arabic\"})\n"
   ]
  },
  {
   "cell_type": "code",
   "execution_count": null,
   "id": "d7e35a86",
   "metadata": {},
   "outputs": [
    {
     "name": "stdout",
     "output_type": "stream",
     "text": [
      "What an exciting venture indeed! Based on your fancy name suggestions, I recommend the following top 3 options that resonate with a sense of elegance, sophistication, and cultural heritage:\n",
      "\n",
      "Dastarkhwan, Mughal Mosaic, Tandoor Tales\n",
      "\n",
      "These names evoke a sense of tradition, cultural richness, and culinary excellence, which are essential elements for a Pakistani restaurant. Dastarkhwan and Mughal Mosaic convey a sense of sophistication and heritage, while Tandoor Tales adds a touch of warmth and storytelling to the brand identity.\n"
     ]
    }
   ],
   "source": [
    "from langchain.chains import SimpleSequentialChain\n",
    "chains=SimpleSequentialChain(chains=[name_chain,items_chain])\n",
    "response=chains.run(\"Pakistani\")\n",
    "print(response)\n",
    "\n"
   ]
  },
  {
   "cell_type": "code",
   "execution_count": 26,
   "id": "2a6d9ba8",
   "metadata": {},
   "outputs": [
    {
     "name": "stdout",
     "output_type": "stream",
     "text": [
      "Here's a popular South Asian cuisine with 5 traditional food items:\n",
      "\n",
      "Cuisine: Hyderabadi\n",
      "Menu: Biryani, Haleem, Irani Chai, Nihari, Shami Kebab\n"
     ]
    }
   ],
   "source": [
    "from langchain.prompts import PromptTemplate\n",
    "from langchain.chains import LLMChain\n",
    "\n",
    "# Define a prompt that gives one cuisine and 5 related dishes\n",
    "prompt_template = PromptTemplate(\n",
    "    input_variables=[],\n",
    "    template=(\n",
    "        \"Suggest one popular South Asian cuisine (like Punjabi, Mughlai, or Sindhi), \"\n",
    "        \"and give 5 traditional food items from that cuisine. \"\n",
    "        \"Return in the following format:\\n\\n\"\n",
    "        \"Cuisine: <Cuisine Name>\\n\"\n",
    "        \"Menu: item1, item2, item3, item4, item5\"\n",
    "    )\n",
    ")\n",
    "\n",
    "# Create the chain\n",
    "cuisine_items_chain = LLMChain(llm=llm, prompt=prompt_template)\n",
    "\n",
    "# Run the chain\n",
    "output = cuisine_items_chain.run({})\n",
    "\n",
    "# Display result\n",
    "print(output)\n"
   ]
  },
  {
   "cell_type": "code",
   "execution_count": null,
   "id": "fcb8b0c6",
   "metadata": {},
   "outputs": [],
   "source": []
  },
  {
   "cell_type": "code",
   "execution_count": null,
   "id": "62328618",
   "metadata": {},
   "outputs": [],
   "source": []
  }
 ],
 "metadata": {
  "kernelspec": {
   "display_name": "Python 3",
   "language": "python",
   "name": "python3"
  },
  "language_info": {
   "codemirror_mode": {
    "name": "ipython",
    "version": 3
   },
   "file_extension": ".py",
   "mimetype": "text/x-python",
   "name": "python",
   "nbconvert_exporter": "python",
   "pygments_lexer": "ipython3",
   "version": "3.12.3"
  }
 },
 "nbformat": 4,
 "nbformat_minor": 5
}
